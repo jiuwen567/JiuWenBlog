{
 "cells": [
  {
   "cell_type": "markdown",
   "id": "880d5374",
   "metadata": {},
   "source": [
    "# 服务端"
   ]
  },
  {
   "cell_type": "code",
   "execution_count": 3,
   "id": "f35f30e3",
   "metadata": {},
   "outputs": [],
   "source": [
    "import socket\n",
    "serverSocket= socket.socket() # 创建套接字"
   ]
  },
  {
   "cell_type": "code",
   "execution_count": 4,
   "id": "c9fc0252",
   "metadata": {},
   "outputs": [
    {
     "ename": "NameError",
     "evalue": "name 'IP' is not defined",
     "output_type": "error",
     "traceback": [
      "\u001b[1;31m---------------------------------------------------------------------------\u001b[0m",
      "\u001b[1;31mNameError\u001b[0m                                 Traceback (most recent call last)",
      "Cell \u001b[1;32mIn[4], line 1\u001b[0m\n\u001b[1;32m----> 1\u001b[0m serverSocket\u001b[38;5;241m.\u001b[39mbind((IP,port))\n",
      "\u001b[1;31mNameError\u001b[0m: name 'IP' is not defined"
     ]
    }
   ],
   "source": [
    "serverSocket.bind((IP,port))  # 绑定本地信息"
   ]
  },
  {
   "cell_type": "code",
   "execution_count": null,
   "id": "f2bedd37",
   "metadata": {},
   "outputs": [],
   "source": [
    "serverSocket.listen(n)# 可容纳的等待接收的连接最大数"
   ]
  },
  {
   "cell_type": "code",
   "execution_count": null,
   "id": "af81cea1",
   "metadata": {},
   "outputs": [],
   "source": [
    "conn,addr = serverSocket.accept() #server-->阻塞\n",
    "# conn:新的套接字对象\n",
    "# addr 客户端地址（二元组）"
   ]
  },
  {
   "cell_type": "markdown",
   "id": "0ceef46b",
   "metadata": {},
   "source": [
    "# 客户端"
   ]
  },
  {
   "cell_type": "code",
   "execution_count": 5,
   "id": "f79da366",
   "metadata": {},
   "outputs": [],
   "source": [
    "clientSocket = socket.socket()"
   ]
  },
  {
   "cell_type": "code",
   "execution_count": null,
   "id": "e9f124be",
   "metadata": {},
   "outputs": [],
   "source": [
    "clint."
   ]
  }
 ],
 "metadata": {
  "kernelspec": {
   "display_name": "Python 3 (ipykernel)",
   "language": "python",
   "name": "python3"
  },
  "language_info": {
   "codemirror_mode": {
    "name": "ipython",
    "version": 3
   },
   "file_extension": ".py",
   "mimetype": "text/x-python",
   "name": "python",
   "nbconvert_exporter": "python",
   "pygments_lexer": "ipython3",
   "version": "3.11.5"
  }
 },
 "nbformat": 4,
 "nbformat_minor": 5
}
