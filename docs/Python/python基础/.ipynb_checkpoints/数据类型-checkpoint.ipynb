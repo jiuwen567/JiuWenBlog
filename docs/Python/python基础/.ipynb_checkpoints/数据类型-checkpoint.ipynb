{
 "cells": [
  {
   "cell_type": "markdown",
   "id": "8670fa9e",
   "metadata": {},
   "source": [
    "# 浮点型"
   ]
  },
  {
   "cell_type": "code",
   "execution_count": 2,
   "id": "58b98fa3",
   "metadata": {},
   "outputs": [
    {
     "name": "stdout",
     "output_type": "stream",
     "text": [
      "False\n"
     ]
    }
   ],
   "source": [
    "a = 0.1\n",
    "b = 0.2\n",
    "print(a+b==0.3)#浮点类型在计算机的存储不精确"
   ]
  },
  {
   "cell_type": "markdown",
   "id": "b16d97e7",
   "metadata": {},
   "source": [
    "# 复数类型"
   ]
  },
  {
   "cell_type": "code",
   "execution_count": 5,
   "id": "2fd1c6b4",
   "metadata": {},
   "outputs": [
    {
     "data": {
      "text/plain": [
       "(5+5j)"
      ]
     },
     "metadata": {},
     "output_type": "display_data"
    },
    {
     "data": {
      "text/plain": [
       "5.0"
      ]
     },
     "metadata": {},
     "output_type": "display_data"
    },
    {
     "data": {
      "text/plain": [
       "5.0"
      ]
     },
     "metadata": {},
     "output_type": "display_data"
    }
   ],
   "source": [
    "a = 1 + 2j\n",
    "b = 4 + 3j\n",
    "z = a + b\n",
    "display(z,z.real,z.imag)"
   ]
  },
  {
   "cell_type": "markdown",
   "id": "a344bded",
   "metadata": {},
   "source": [
    "# 分数和高精度实数"
   ]
  },
  {
   "cell_type": "code",
   "execution_count": 10,
   "id": "16d60da2",
   "metadata": {},
   "outputs": [
    {
     "data": {
      "text/plain": [
       "5"
      ]
     },
     "metadata": {},
     "output_type": "display_data"
    },
    {
     "data": {
      "text/plain": [
       "2"
      ]
     },
     "metadata": {},
     "output_type": "display_data"
    },
    {
     "data": {
      "text/plain": [
       "Fraction(3, 5)"
      ]
     },
     "metadata": {},
     "output_type": "display_data"
    },
    {
     "data": {
      "text/plain": [
       "0.3333333333333333"
      ]
     },
     "metadata": {},
     "output_type": "display_data"
    },
    {
     "data": {
      "text/plain": [
       "Decimal('0.333333333333333314829616256247390992939472198486328125')"
      ]
     },
     "metadata": {},
     "output_type": "display_data"
    }
   ],
   "source": [
    "from fractions import Fraction\n",
    "from fractions import Decimal # 用于高精度的十进制运算。它提供了更精确的浮点数运算，避免了传统浮点数运算中的精度丢失问题。\n",
    "a = Fraction(2,5)\n",
    "b = Fraction(2,10)\n",
    "a.denominator # 查看分母\n",
    "a.numerator # 查看分子\n",
    "display(a.denominator,a.numerator,a+b,1/3,Decimal(1/3)) "
   ]
  },
  {
   "cell_type": "code",
   "execution_count": null,
   "id": "4d1f361b",
   "metadata": {},
   "outputs": [],
   "source": []
  }
 ],
 "metadata": {
  "kernelspec": {
   "display_name": "Python 3 (ipykernel)",
   "language": "python",
   "name": "python3"
  },
  "language_info": {
   "codemirror_mode": {
    "name": "ipython",
    "version": 3
   },
   "file_extension": ".py",
   "mimetype": "text/x-python",
   "name": "python",
   "nbconvert_exporter": "python",
   "pygments_lexer": "ipython3",
   "version": "3.11.5"
  }
 },
 "nbformat": 4,
 "nbformat_minor": 5
}
