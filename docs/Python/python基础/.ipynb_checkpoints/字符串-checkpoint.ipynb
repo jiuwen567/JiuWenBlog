{
 "cells": [
  {
   "cell_type": "markdown",
   "id": "04b48e58",
   "metadata": {},
   "source": [
    "# map()"
   ]
  },
  {
   "cell_type": "markdown",
   "id": "3f63c9a3",
   "metadata": {},
   "source": [
    "# len()"
   ]
  },
  {
   "cell_type": "markdown",
   "id": "352fbf62",
   "metadata": {},
   "source": [
    "# ord()函数和chr()函数"
   ]
  },
  {
   "cell_type": "markdown",
   "id": "731c7551",
   "metadata": {},
   "source": [
    "1. ord(c)：返回单个字符的Unicode编码。\n",
    "2. chr(u)：返回Unicode编码对应的字符"
   ]
  },
  {
   "cell_type": "markdown",
   "id": "6f064440",
   "metadata": {},
   "source": [
    "在两个字符串进行比较时，一般遵循如下规则：\n",
    "- 如果都是英文字符串，等价于按照字符串每个字符的ASCII编码逐个\n",
    "进行比较。\n",
    "- 如果包含中文字符，则按照对应字符的Unicode编码逐个进行比较，\n",
    "其中，汉字编码大于英文字符"
   ]
  },
  {
   "cell_type": "code",
   "execution_count": 1,
   "id": "36c57dc2",
   "metadata": {},
   "outputs": [
    {
     "data": {
      "text/plain": [
       "True"
      ]
     },
     "execution_count": 1,
     "metadata": {},
     "output_type": "execute_result"
    }
   ],
   "source": [
    "\"中\">'z'"
   ]
  },
  {
   "cell_type": "code",
   "execution_count": 2,
   "id": "9bfad1fc",
   "metadata": {},
   "outputs": [
    {
     "data": {
      "text/plain": [
       "20013"
      ]
     },
     "metadata": {},
     "output_type": "display_data"
    },
    {
     "data": {
      "text/plain": [
       "122"
      ]
     },
     "metadata": {},
     "output_type": "display_data"
    }
   ],
   "source": [
    "display(ord('中'),ord('z'))"
   ]
  },
  {
   "cell_type": "markdown",
   "id": "db2c2907",
   "metadata": {},
   "source": [
    "# format()"
   ]
  },
  {
   "cell_type": "code",
   "execution_count": 9,
   "id": "5a1295e9",
   "metadata": {},
   "outputs": [
    {
     "name": "stdout",
     "output_type": "stream",
     "text": [
      "06\n"
     ]
    }
   ],
   "source": [
    "print(\"{:0>2d}\".format(6))"
   ]
  },
  {
   "cell_type": "markdown",
   "id": "3e4c7616",
   "metadata": {},
   "source": [
    "# strip()"
   ]
  },
  {
   "cell_type": "code",
   "execution_count": 14,
   "id": "5e78ca8b",
   "metadata": {},
   "outputs": [
    {
     "name": "stdout",
     "output_type": "stream",
     "text": [
      "ab中国\n",
      "\n",
      "------\n",
      "ab中国\n",
      "------\n",
      "ab中国\n",
      "\n",
      "------\n"
     ]
    }
   ],
   "source": [
    "data = 'ab中国\\n'\n",
    "print(data)\n",
    "print('------')\n",
    "print(data.strip()) #data不受影响、字符串只读\n",
    "print('------')\n",
    "print(data)\n",
    "print('------')"
   ]
  },
  {
   "cell_type": "markdown",
   "id": "9548c831",
   "metadata": {},
   "source": [
    "# isdecimal()"
   ]
  },
  {
   "cell_type": "markdown",
   "id": "839efaf3",
   "metadata": {},
   "source": [
    "`isdecimal`是一个Python字符串方法，用于检查字符串是否只包含十进制数字字符。如果字符串只包含十进制数字字符，则该方法返回True；否则返回False。"
   ]
  },
  {
   "cell_type": "code",
   "execution_count": 16,
   "id": "af75cbd0",
   "metadata": {},
   "outputs": [
    {
     "name": "stdout",
     "output_type": "stream",
     "text": [
      "请输入电话号码: 13246\n",
      "您输入的电话号码不正确!\n",
      "请重新输入:sqdeq1313\n",
      "您输入的电话号码不正确!\n",
      "请重新输入:142e2qe\n",
      "您输入的电话号码不正确!\n",
      "请重新输入:211\n",
      "您输入的电话号码不正确!\n",
      "请重新输入:13272631958\n",
      "您的电话号码是: 13272631958\n"
     ]
    }
   ],
   "source": [
    "phone = input(\"请输入电话号码: \")\n",
    "while True:\n",
    "    if phone.isdecimal() and len(phone) == 11: #电话号码为11位数字.\n",
    "        print(\"您的电话号码是:\",phone)\n",
    "        break\n",
    "    else:\n",
    "        phone = input(\"您输入的电话号码不正确!\\n请重新输入:\")"
   ]
  },
  {
   "cell_type": "markdown",
   "id": "11697555",
   "metadata": {},
   "source": [
    "# split()"
   ]
  },
  {
   "cell_type": "markdown",
   "id": "d0bba371",
   "metadata": {},
   "source": [
    "str.split()函数通过指定分隔符(一个字符串或一个正则表达式，默认为空格、Tab\n",
    "或换行)对字符串进行切片，结果为一个列表，其一般格式为：\n",
    "str.split(sep=\"\" ,num)"
   ]
  },
  {
   "cell_type": "markdown",
   "id": "e3111663",
   "metadata": {},
   "source": [
    "# 一次性(一条语句)、输入多个数值"
   ]
  },
  {
   "cell_type": "markdown",
   "id": "5d10362c",
   "metadata": {},
   "source": [
    "• 法一：参见“内置函数”-eval；\n",
    "• >>> a,b = eval( input(\"请输入两个数(用','隔开): \") ) \n",
    "请输入两个数(用','隔开):5, 8\n",
    ">>> print(\"a = %d, b = %d.\"%(a,b))\n",
    "a = 5, b = 8.\n",
    "• 法二：使用 split() 方法\n",
    "• a,b = input(\"输入空格分隔的两个字符串:\").split()\n",
    "• print( type(a) , type(b) ) #字符串类型\n",
    "• a,b = map( int,input (\"输入空格分隔的两个整数:\").split())\n",
    "• print(type(a) , type(b) ) #整数类"
   ]
  },
  {
   "cell_type": "markdown",
   "id": "32171f25",
   "metadata": {},
   "source": [
    "# 深浅复制"
   ]
  },
  {
   "cell_type": "markdown",
   "id": "fe40144a",
   "metadata": {},
   "source": [
    "https://www.runoob.com/w3cnote/python-understanding-dict-copy-shallow-or-deep.html"
   ]
  },
  {
   "cell_type": "code",
   "execution_count": 1,
   "id": "3bc0d433",
   "metadata": {},
   "outputs": [
    {
     "data": {
      "text/plain": [
       "True"
      ]
     },
     "metadata": {},
     "output_type": "display_data"
    }
   ],
   "source": [
    "a = 20\n",
    "b = 20\n",
    "display(a is b)"
   ]
  },
  {
   "cell_type": "code",
   "execution_count": 18,
   "id": "accbf274",
   "metadata": {},
   "outputs": [
    {
     "data": {
      "text/plain": [
       "False"
      ]
     },
     "metadata": {},
     "output_type": "display_data"
    },
    {
     "data": {
      "text/plain": [
       "[1, 2, 3]"
      ]
     },
     "metadata": {},
     "output_type": "display_data"
    },
    {
     "data": {
      "text/plain": [
       "[1, 2]"
      ]
     },
     "metadata": {},
     "output_type": "display_data"
    }
   ],
   "source": [
    "a = [1,2]\n",
    "b =a.copy()\n",
    "display(a is b)\n",
    "a.append(3)\n",
    "display(a,b)"
   ]
  },
  {
   "cell_type": "code",
   "execution_count": 19,
   "id": "d697e22b",
   "metadata": {},
   "outputs": [
    {
     "data": {
      "text/plain": [
       "{1: [1, 2, 3]}"
      ]
     },
     "metadata": {},
     "output_type": "display_data"
    },
    {
     "data": {
      "text/plain": [
       "{1: [1, 2, 3]}"
      ]
     },
     "metadata": {},
     "output_type": "display_data"
    },
    {
     "data": {
      "text/plain": [
       "{1: [1, 2, 3, 4]}"
      ]
     },
     "metadata": {},
     "output_type": "display_data"
    },
    {
     "data": {
      "text/plain": [
       "{1: [1, 2, 3, 4]}"
      ]
     },
     "metadata": {},
     "output_type": "display_data"
    },
    {
     "data": {
      "text/plain": [
       "False"
      ]
     },
     "metadata": {},
     "output_type": "display_data"
    },
    {
     "data": {
      "text/plain": [
       "{1: [1, 2, 3, 4], 2: [1, 2]}"
      ]
     },
     "metadata": {},
     "output_type": "display_data"
    },
    {
     "data": {
      "text/plain": [
       "{1: [1, 2, 3, 4]}"
      ]
     },
     "metadata": {},
     "output_type": "display_data"
    }
   ],
   "source": [
    "a = {1: [1,2,3]}\n",
    "b = a.copy() # 字典浅拷贝实例\n",
    "display(a,b)\n",
    "a[1].append(4)\n",
    "display(a,b,a is b)\n",
    "a[2] = [1,2]\n",
    "display(a,b)"
   ]
  },
  {
   "cell_type": "code",
   "execution_count": 16,
   "id": "5e36d1b0",
   "metadata": {},
   "outputs": [
    {
     "data": {
      "text/plain": [
       "{1: [1, 2, 3]}"
      ]
     },
     "metadata": {},
     "output_type": "display_data"
    },
    {
     "data": {
      "text/plain": [
       "{1: [1, 2, 3]}"
      ]
     },
     "metadata": {},
     "output_type": "display_data"
    },
    {
     "data": {
      "text/plain": [
       "{1: [1, 2, 3, 4]}"
      ]
     },
     "metadata": {},
     "output_type": "display_data"
    },
    {
     "data": {
      "text/plain": [
       "{1: [1, 2, 3]}"
      ]
     },
     "metadata": {},
     "output_type": "display_data"
    },
    {
     "data": {
      "text/plain": [
       "False"
      ]
     },
     "metadata": {},
     "output_type": "display_data"
    }
   ],
   "source": [
    "import copy\n",
    "a = {1: [1,2,3]}\n",
    "b = copy.deepcopy(a) # 字典浅拷贝实例\n",
    "display(a,b)\n",
    "a[1].append(4)\n",
    "display(a,b,a is b)\n"
   ]
  },
  {
   "cell_type": "markdown",
   "id": "b2235345",
   "metadata": {},
   "source": [
    "# 逻辑运算"
   ]
  },
  {
   "cell_type": "markdown",
   "id": "00b6b1d7",
   "metadata": {},
   "source": [
    "https://www.freecodecamp.org/chinese/news/operators-in-python-how-to-use-logical-operators-in-python/"
   ]
  },
  {
   "cell_type": "markdown",
   "id": "03c2cbfb",
   "metadata": {},
   "source": [
    "# 位运算"
   ]
  },
  {
   "cell_type": "markdown",
   "id": "3f67a224",
   "metadata": {},
   "source": [
    "https://www.cnblogs.com/Neeo/articles/10536202.html"
   ]
  },
  {
   "cell_type": "markdown",
   "id": "f9aa7404",
   "metadata": {},
   "source": [
    "# operator"
   ]
  },
  {
   "cell_type": "markdown",
   "id": "7fadba06",
   "metadata": {},
   "source": [
    "https://docs.python.org/zh-cn/3/library/operator.html"
   ]
  },
  {
   "cell_type": "code",
   "execution_count": null,
   "id": "fa00b3e5",
   "metadata": {},
   "outputs": [],
   "source": []
  }
 ],
 "metadata": {
  "kernelspec": {
   "display_name": "Python 3 (ipykernel)",
   "language": "python",
   "name": "python3"
  },
  "language_info": {
   "codemirror_mode": {
    "name": "ipython",
    "version": 3
   },
   "file_extension": ".py",
   "mimetype": "text/x-python",
   "name": "python",
   "nbconvert_exporter": "python",
   "pygments_lexer": "ipython3",
   "version": "3.11.5"
  }
 },
 "nbformat": 4,
 "nbformat_minor": 5
}
