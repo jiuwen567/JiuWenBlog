{
 "cells": [
  {
   "cell_type": "markdown",
   "id": "a638b446",
   "metadata": {},
   "source": [
    "# 字符串的编码规范"
   ]
  },
  {
   "cell_type": "markdown",
   "id": "5eb5211f",
   "metadata": {},
   "source": [
    "- Python 2.X中，默认字符编码为ASCII。如果需要处理中文字符，则必须在源\n",
    "文件的开头添加\"#-coding=UTF-8-\"。\n",
    "- 在Python 3.X中，在程序运行过程(内存)中，通常的字符串 (str)类型的字符编码\n",
    "采用Unicode编码，每个字符占用2个字节，直接支持大多数不同国家的语言文\n",
    "字、包括汉字字符。与Python2兼容，可以在字符串前显式使用前缀u指明Unicode编码\n",
    "类型。\n",
    "- 在Python 3.X中，字符串类型存在第二类编码格式、即所谓的字节串(bytes)类型，\n",
    "包含多个8bit的字节组成，如：UTF-8、gb2312、ASCII等。使用时带有前缀b。\n",
    "在涉及文件存储和网络通信的应用中，通常使用bytes类型。\n",
    "- 例如，涉及文件操作时，从文件读取的UTF-8字符被自动转换为Unicode字符位\n",
    "于内存，程序处理完成之后保存时，再把Unicode转换为UTF-8保存到磁盘文件。"
   ]
  },
  {
   "cell_type": "markdown",
   "id": "26d09cec",
   "metadata": {},
   "source": [
    "- str和bytes类型的对象可以相互转换。\n",
    "1. 基于Unicode的字符串（str）对象的成员函数encode( ) ，能\n",
    "够从unicode格式转换为指定编码(默认UTF8)的bytes字节串格式；\n",
    "使用字节串bytes对象的成员函数decode()把指定的bytes字节串格式\n",
    "(默认UTF8)转换为unicode编码格式。\n",
    "可以理解，如果bytes中包含无法解码的字节，decode()方法会报错；\n",
    "如果bytes中只有少量无效字节，可以使用参数errors='ignore'忽略\n",
    "错误的字节。\n",
    "2. 使用内置函数bytes() 函数和str()函数实现。\n"
   ]
  },
  {
   "cell_type": "markdown",
   "id": "e618fc39",
   "metadata": {},
   "source": [
    "1. Unicode字符串（对象）：在python3.X程序运行过程中（内存中），字符串\n",
    "(str)类型默认采用的字编码格式，或者显式以u或U开头的字符串。每个字符占\n",
    "据2个字节(包括英文字符)。符\n",
    "2. bytes字节串（对象） ：为了节省数据量，字符在磁盘存储或网络传输时采用\n",
    "的格式，在Python中以b或B开头。例如，‘ABC’和b‘ABC’，前者是str，后者是\n",
    "bytes：虽然显示效果与前者相同、但每个字符只占用一个字节。\n",
    "bytes字节串如果采用ASCII码、则不能包含汉字；\n",
    "默认采用UTF-8格式：能够处理汉字（一般占3个字节）、并兼容ASCII码；\n",
    "也可以指定其他编码格式，如gb2312 、GBK。\n",
    "3. 非转义的原始（raw）字符串：以r或R开头的字符串，支持中文、忽略转义字符"
   ]
  },
  {
   "cell_type": "code",
   "execution_count": 55,
   "id": "d8764a77",
   "metadata": {},
   "outputs": [
    {
     "data": {
      "text/plain": [
       "str"
      ]
     },
     "metadata": {},
     "output_type": "display_data"
    },
    {
     "data": {
      "text/plain": [
       "bytes"
      ]
     },
     "metadata": {},
     "output_type": "display_data"
    }
   ],
   "source": [
    "string = \"工业\" # str类型默认采用 Unicode编码格式.\n",
    "str_utf8 = str.encode('utf8') # str_utf8\n",
    "display(type(string),type(str_utf8))"
   ]
  },
  {
   "cell_type": "code",
   "execution_count": 56,
   "id": "49145c6e",
   "metadata": {},
   "outputs": [
    {
     "data": {
      "text/plain": [
       "str"
      ]
     },
     "execution_count": 56,
     "metadata": {},
     "output_type": "execute_result"
    }
   ],
   "source": [
    "string = str_utf8.decode('utf8')\n",
    "type(string)"
   ]
  },
  {
   "cell_type": "code",
   "execution_count": 57,
   "id": "8edbd062",
   "metadata": {},
   "outputs": [
    {
     "data": {
      "text/plain": [
       "bytes"
      ]
     },
     "metadata": {},
     "output_type": "display_data"
    },
    {
     "data": {
      "text/plain": [
       "b'\\xb9\\xa4\\xd2\\xb5'"
      ]
     },
     "metadata": {},
     "output_type": "display_data"
    }
   ],
   "source": [
    "str_gbk = string.encode('gbk')\n",
    "display(type(str_gbk),str_gbk)"
   ]
  },
  {
   "cell_type": "code",
   "execution_count": 58,
   "id": "2b61c86e",
   "metadata": {},
   "outputs": [
    {
     "name": "stdout",
     "output_type": "stream",
     "text": [
      "I am really pleased.\n"
     ]
    }
   ],
   "source": [
    "print(u\"I am really\\u0020pleased.\")# 这段代码使用了Python中的转义字符\\u0020，它表示Unicode编码中的空格字符。因此，该代码实际上会打印出：\"I am really pleased.\"。在打印过程中，\\u0020会被解释为一个空格字符。"
   ]
  },
  {
   "cell_type": "code",
   "execution_count": 59,
   "id": "44edf5a9",
   "metadata": {},
   "outputs": [
    {
     "name": "stdout",
     "output_type": "stream",
     "text": [
      "d:\\friends.txt\n",
      "d:\f",
      "riends.txt\n"
     ]
    }
   ],
   "source": [
    "print(r\"d:\\friends.txt\")\n",
    "print(\"d:\\friends.txt\")# \\f 翻页符"
   ]
  },
  {
   "cell_type": "code",
   "execution_count": 60,
   "id": "0eb282b7",
   "metadata": {},
   "outputs": [
    {
     "name": "stdout",
     "output_type": "stream",
     "text": [
      "b'rejoie'\n"
     ]
    }
   ],
   "source": [
    "print(b\"rejoie\")# byte只能包含ASCII文字符的字节。"
   ]
  },
  {
   "cell_type": "code",
   "execution_count": 61,
   "id": "ac066b6b",
   "metadata": {},
   "outputs": [
    {
     "name": "stdout",
     "output_type": "stream",
     "text": [
      "b'\\xd6\\xd0\\xb9\\xfa'\n"
     ]
    }
   ],
   "source": [
    "print( bytes(\"中国\",\"GB2312\") ) #每个汉字的GB2312码占2个字节"
   ]
  },
  {
   "cell_type": "code",
   "execution_count": 62,
   "id": "0c9bc89e",
   "metadata": {},
   "outputs": [
    {
     "name": "stdout",
     "output_type": "stream",
     "text": [
      "b'abc'\n"
     ]
    }
   ],
   "source": [
    "print( bytes(\"abc\",\"GB2312\") ) #半角、英文1个字节"
   ]
  },
  {
   "cell_type": "code",
   "execution_count": 63,
   "id": "8b496904",
   "metadata": {},
   "outputs": [
    {
     "name": "stdout",
     "output_type": "stream",
     "text": [
      "b'abc'\n"
     ]
    }
   ],
   "source": [
    "print(bytes(\"abc\",\"ascii\") )\n",
    "# b'abc'\n",
    "# print( bytes(\"中国\", \"ascii\") ) #？？？"
   ]
  },
  {
   "cell_type": "code",
   "execution_count": 64,
   "id": "b81bbfd4",
   "metadata": {},
   "outputs": [
    {
     "name": "stdout",
     "output_type": "stream",
     "text": [
      "b'\\xe4\\xb8\\xad\\xe5\\x9b\\xbd'\n"
     ]
    }
   ],
   "source": [
    "print( \"中国\".encode( ) ) #Unicode转字节串：默认：UTF-8码"
   ]
  },
  {
   "cell_type": "code",
   "execution_count": 65,
   "id": "1891d9ae",
   "metadata": {},
   "outputs": [
    {
     "name": "stdout",
     "output_type": "stream",
     "text": [
      "b'\\xd6\\xd0\\xb9\\xfa'\n"
     ]
    }
   ],
   "source": [
    "print( bytes(\"中国\",\"GBK\") )\n",
    "# b'\\xd6\\xd0\\xb9\\xfa' #每个汉字的GBK码占2个字节"
   ]
  },
  {
   "cell_type": "code",
   "execution_count": 71,
   "id": "f7f8d2f3",
   "metadata": {},
   "outputs": [
    {
     "data": {
      "text/plain": [
       "'中国'"
      ]
     },
     "execution_count": 71,
     "metadata": {},
     "output_type": "execute_result"
    }
   ],
   "source": [
    "# print(str(b'\\xe4\\xb8\\xad\\xe5\\x9b\\xbd','UTF-8'))\n",
    "byte = b'\\xe4\\xb8\\xad\\xe5\\x9b\\xbd'\n",
    "byte.decode('utf-8')\n",
    "# '中国'\n",
    "# print( str(b'\\xe4\\xb8\\xad\\xe5\\x9b\\xbd', \"GBK\") ) #结果？？？"
   ]
  },
  {
   "cell_type": "code",
   "execution_count": null,
   "id": "41d5878d",
   "metadata": {},
   "outputs": [],
   "source": []
  }
 ],
 "metadata": {
  "kernelspec": {
   "display_name": "Python 3 (ipykernel)",
   "language": "python",
   "name": "python3"
  },
  "language_info": {
   "codemirror_mode": {
    "name": "ipython",
    "version": 3
   },
   "file_extension": ".py",
   "mimetype": "text/x-python",
   "name": "python",
   "nbconvert_exporter": "python",
   "pygments_lexer": "ipython3",
   "version": "3.11.5"
  }
 },
 "nbformat": 4,
 "nbformat_minor": 5
}
