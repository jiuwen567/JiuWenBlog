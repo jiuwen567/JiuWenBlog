{
 "cells": [
  {
   "cell_type": "markdown",
   "id": "f68f84c3",
   "metadata": {},
   "source": [
    "# 当dict中有多个key时，值以最后一个为准"
   ]
  },
  {
   "cell_type": "code",
   "execution_count": 2,
   "id": "bbee5745",
   "metadata": {},
   "outputs": [
    {
     "data": {
      "text/plain": [
       "{1: 11, 2: 2}"
      ]
     },
     "execution_count": 2,
     "metadata": {},
     "output_type": "execute_result"
    }
   ],
   "source": [
    "dict1 = {1:1,2:2,1:11}\n",
    "dict1"
   ]
  },
  {
   "cell_type": "markdown",
   "id": "a1ba1db1",
   "metadata": {},
   "source": [
    "# get()"
   ]
  },
  {
   "cell_type": "markdown",
   "id": "c101d431",
   "metadata": {},
   "source": [
    "# keys()"
   ]
  },
  {
   "cell_type": "markdown",
   "id": "b548442f",
   "metadata": {},
   "source": [
    "# values()"
   ]
  },
  {
   "cell_type": "markdown",
   "id": "9641437a",
   "metadata": {},
   "source": [
    "# items()"
   ]
  },
  {
   "cell_type": "code",
   "execution_count": 11,
   "id": "e2d087c2",
   "metadata": {},
   "outputs": [
    {
     "name": "stdout",
     "output_type": "stream",
     "text": [
      "1 11\n",
      "2 2\n"
     ]
    }
   ],
   "source": [
    "for key,value in dict1.items():\n",
    "    print(key,value)"
   ]
  },
  {
   "cell_type": "markdown",
   "id": "5e5dccfc",
   "metadata": {},
   "source": [
    "# 添加&修改"
   ]
  },
  {
   "cell_type": "code",
   "execution_count": 13,
   "id": "66f31d36",
   "metadata": {},
   "outputs": [
    {
     "data": {
      "text/plain": [
       "{1: 111, 2: 2, 3: 3}"
      ]
     },
     "execution_count": 13,
     "metadata": {},
     "output_type": "execute_result"
    }
   ],
   "source": [
    "dict1[1] = 111 #有默认值修改\n",
    "dict1[3] = 3  # 无默认值新建\n",
    "dict1"
   ]
  },
  {
   "cell_type": "markdown",
   "id": "45e231f3",
   "metadata": {},
   "source": [
    "# setdefault()"
   ]
  },
  {
   "cell_type": "code",
   "execution_count": 15,
   "id": "66464503",
   "metadata": {},
   "outputs": [
    {
     "data": {
      "text/plain": [
       "{1: 111, 2: 2, 3: 3, 4: None}"
      ]
     },
     "execution_count": 15,
     "metadata": {},
     "output_type": "execute_result"
    }
   ],
   "source": [
    "dict1.setdefault(4)\n",
    "dict1"
   ]
  },
  {
   "cell_type": "code",
   "execution_count": 3,
   "id": "53665cb0",
   "metadata": {},
   "outputs": [
    {
     "data": {
      "text/plain": [
       "11"
      ]
     },
     "execution_count": 3,
     "metadata": {},
     "output_type": "execute_result"
    }
   ],
   "source": [
    "dict = dict1.setdefault(1) #查找，不修改\n",
    "dict"
   ]
  },
  {
   "cell_type": "code",
   "execution_count": null,
   "id": "43aa2356",
   "metadata": {},
   "outputs": [],
   "source": []
  }
 ],
 "metadata": {
  "kernelspec": {
   "display_name": "Python 3 (ipykernel)",
   "language": "python",
   "name": "python3"
  },
  "language_info": {
   "codemirror_mode": {
    "name": "ipython",
    "version": 3
   },
   "file_extension": ".py",
   "mimetype": "text/x-python",
   "name": "python",
   "nbconvert_exporter": "python",
   "pygments_lexer": "ipython3",
   "version": "3.11.5"
  }
 },
 "nbformat": 4,
 "nbformat_minor": 5
}
