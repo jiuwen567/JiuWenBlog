{
 "cells": [
  {
   "cell_type": "markdown",
   "id": "bc1b0001",
   "metadata": {},
   "source": [
    "# extend()"
   ]
  },
  {
   "cell_type": "code",
   "execution_count": 4,
   "id": "c4695993",
   "metadata": {},
   "outputs": [
    {
     "name": "stdout",
     "output_type": "stream",
     "text": [
      "Extended List :  [123, 'xyz', 'zara', 'abc', 123, 2009, 'manni']\n"
     ]
    }
   ],
   "source": [
    "aList = [123, 'xyz', 'zara', 'abc', 123];\n",
    "bList = [2009, 'manni'];\n",
    "aList.extend(bList)\n",
    "\n",
    "print(\"Extended List : \", aList) "
   ]
  },
  {
   "cell_type": "markdown",
   "id": "793cb43b",
   "metadata": {},
   "source": [
    "# append()"
   ]
  },
  {
   "cell_type": "code",
   "execution_count": 1,
   "id": "dee0f169",
   "metadata": {},
   "outputs": [
    {
     "data": {
      "text/plain": [
       "[1, 2, [3, 4]]"
      ]
     },
     "metadata": {},
     "output_type": "display_data"
    },
    {
     "data": {
      "text/plain": [
       "[1, 2, 3, 4]"
      ]
     },
     "metadata": {},
     "output_type": "display_data"
    }
   ],
   "source": [
    "l1 = [1,2]\n",
    "l2 = [3,4]\n",
    "l3 = l1 + l2\n",
    "l1.append(l2)\n",
    "display(l1,l3)"
   ]
  },
  {
   "cell_type": "markdown",
   "id": "d3dbd74e",
   "metadata": {},
   "source": [
    "# remove()"
   ]
  },
  {
   "cell_type": "code",
   "execution_count": 19,
   "id": "9806764c",
   "metadata": {},
   "outputs": [
    {
     "data": {
      "text/plain": [
       "[2, 3, 4]"
      ]
     },
     "execution_count": 19,
     "metadata": {},
     "output_type": "execute_result"
    }
   ],
   "source": [
    "l3 = [1,2,3,4]\n",
    "l3.remove(1) # 移除元素\n",
    "l3"
   ]
  },
  {
   "cell_type": "markdown",
   "id": "f229bf1a",
   "metadata": {},
   "source": [
    "# pop()"
   ]
  },
  {
   "cell_type": "code",
   "execution_count": 22,
   "id": "e56b6311",
   "metadata": {},
   "outputs": [
    {
     "data": {
      "text/plain": [
       "[1, 3]"
      ]
     },
     "execution_count": 22,
     "metadata": {},
     "output_type": "execute_result"
    }
   ],
   "source": [
    "l3 = [1,2,3,4]\n",
    "l3.pop(1) # 移除下标为1的元素\n",
    "l3.pop() # 删除最后一个元素\n",
    "l3"
   ]
  },
  {
   "cell_type": "markdown",
   "id": "56a76275",
   "metadata": {},
   "source": [
    "# sort()"
   ]
  },
  {
   "cell_type": "markdown",
   "id": "bfbdafe3",
   "metadata": {},
   "source": [
    "- 有可选参数reverse\n",
    "- 可选参数 key\n",
    "https://www.freecodecamp.org/chinese/news/python-sort-how-to-sort-a-list-in-python/"
   ]
  },
  {
   "cell_type": "markdown",
   "id": "5d6fcc46",
   "metadata": {},
   "source": [
    "# sorted() ->原对象不变"
   ]
  },
  {
   "cell_type": "markdown",
   "id": "4e636975",
   "metadata": {},
   "source": [
    "# reverse"
   ]
  },
  {
   "cell_type": "markdown",
   "id": "28c641a3",
   "metadata": {},
   "source": [
    "- reverse() 函数用于反向列表中元素。\n",
    "- 是python中列表的一个内置方法（也就是说，在字典，字符串或者元组中，是没有这个内置方法的），用于列表中数据的反转"
   ]
  },
  {
   "cell_type": "markdown",
   "id": "008b90ce",
   "metadata": {},
   "source": [
    "# reversed()"
   ]
  },
  {
   "cell_type": "code",
   "execution_count": null,
   "id": "c61f416c",
   "metadata": {},
   "outputs": [],
   "source": []
  }
 ],
 "metadata": {
  "kernelspec": {
   "display_name": "Python 3 (ipykernel)",
   "language": "python",
   "name": "python3"
  },
  "language_info": {
   "codemirror_mode": {
    "name": "ipython",
    "version": 3
   },
   "file_extension": ".py",
   "mimetype": "text/x-python",
   "name": "python",
   "nbconvert_exporter": "python",
   "pygments_lexer": "ipython3",
   "version": "3.11.5"
  }
 },
 "nbformat": 4,
 "nbformat_minor": 5
}
